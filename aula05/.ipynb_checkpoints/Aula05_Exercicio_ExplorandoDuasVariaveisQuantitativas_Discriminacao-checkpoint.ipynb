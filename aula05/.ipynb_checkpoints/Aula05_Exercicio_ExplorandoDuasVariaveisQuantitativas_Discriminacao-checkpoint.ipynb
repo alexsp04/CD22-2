{
 "cells": [
  {
   "cell_type": "markdown",
   "metadata": {},
   "source": [
    "___\n",
    "# Exercício: Análise Exploratória - Associação entre duas Variáveis Quantitativas\n",
    "___\n",
    "\n",
    "## Aula 05"
   ]
  },
  {
   "cell_type": "markdown",
   "metadata": {},
   "source": [
    "<div id=\"indice\"></div>\n",
    "\n",
    "## Índice\n",
    "\n",
    "- [Discriminação Salarial](#discriminacao-salarial)\n",
    "    - [Exercício 1](#ex1) **- APS2 disponível no Blackboard**\n",
    "    - [Exercício 2](#ex2) \n",
    "    - [Exercício 3](#ex3) **- APS2 disponível no Blackboard**\n",
    "    - [Exercício 4](#ex4) **- APS2 disponível no Blackboard**\n",
    "    - [Exercício 5](#ex5) **- APS2 disponível no Blackboard**\n",
    "    - [Exercício 6](#ex6) **- APS2 disponível no Blackboard**\n",
    "    - [Exercício 7](#ex7)\n",
    "    - [Exercício 8](#ex8)\n",
    "    - [Exercício 9 [EXTRA]](#ex9)\n",
    "    - [Exercício 10 [EXTRA]](#ex10)\n",
    "    - [Exercício 11 [EXTRA]](#ex11)"
   ]
  },
  {
   "cell_type": "code",
   "execution_count": 4,
   "metadata": {},
   "outputs": [
    {
     "name": "stdout",
     "output_type": "stream",
     "text": [
      "Esperamos trabalhar no diretório\n",
      "C:\\Users\\ivanp\\OneDrive\\Documentos\\INSPER\\2o. Semestre_2022\\C.Dados\\CD22-2-1\\aula05\n"
     ]
    }
   ],
   "source": [
    "#%matplotlib inline\n",
    "import pandas as pd\n",
    "import matplotlib.pyplot as plt\n",
    "import numpy as np\n",
    "import os\n",
    "\n",
    "print('Esperamos trabalhar no diretório')\n",
    "print(os.getcwd())"
   ]
  },
  {
   "cell_type": "markdown",
   "metadata": {},
   "source": [
    "___\n",
    "<div id=\"discriminacao-salarial\"></div>\n",
    "\n",
    "# Discriminação Salarial\n",
    "\n",
    "<img src=\"disparidade-salarial.jpg\" height=\"400\">\n",
    "\n",
    "Fonte: extraído da internet"
   ]
  },
  {
   "cell_type": "markdown",
   "metadata": {},
   "source": [
    "Uma empresa está sendo **acusada de pagar um salário maior para os homens do que para as mulheres**. \n",
    "Para justificar a acusação, apresentou-se uma lista de salários de uma amostra de funcionários. \n",
    "**Essa empresa tem motivos para se preocupar?**\n",
    "\n",
    "A base de dados `Discriminação.xlsx` apresenta, para cada funcionário, as variáveis:\n",
    "\n",
    "1. Sexo: `'fem'` ou `'masc'`;\n",
    "2. Anos: anos no emprego; e \n",
    "3. Salario: remuneração mensal, em milhares de reais. \n"
   ]
  },
  {
   "cell_type": "code",
   "execution_count": 5,
   "metadata": {},
   "outputs": [],
   "source": [
    "dados = pd.read_excel('Discriminacao.xlsx')"
   ]
  },
  {
   "cell_type": "code",
   "execution_count": 6,
   "metadata": {},
   "outputs": [
    {
     "data": {
      "text/html": [
       "<div>\n",
       "<style scoped>\n",
       "    .dataframe tbody tr th:only-of-type {\n",
       "        vertical-align: middle;\n",
       "    }\n",
       "\n",
       "    .dataframe tbody tr th {\n",
       "        vertical-align: top;\n",
       "    }\n",
       "\n",
       "    .dataframe thead th {\n",
       "        text-align: right;\n",
       "    }\n",
       "</style>\n",
       "<table border=\"1\" class=\"dataframe\">\n",
       "  <thead>\n",
       "    <tr style=\"text-align: right;\">\n",
       "      <th></th>\n",
       "      <th>Sexo</th>\n",
       "      <th>Anos</th>\n",
       "      <th>Salario</th>\n",
       "    </tr>\n",
       "  </thead>\n",
       "  <tbody>\n",
       "    <tr>\n",
       "      <th>0</th>\n",
       "      <td>fem</td>\n",
       "      <td>9</td>\n",
       "      <td>39</td>\n",
       "    </tr>\n",
       "    <tr>\n",
       "      <th>1</th>\n",
       "      <td>fem</td>\n",
       "      <td>6</td>\n",
       "      <td>36</td>\n",
       "    </tr>\n",
       "    <tr>\n",
       "      <th>2</th>\n",
       "      <td>fem</td>\n",
       "      <td>10</td>\n",
       "      <td>40</td>\n",
       "    </tr>\n",
       "    <tr>\n",
       "      <th>3</th>\n",
       "      <td>fem</td>\n",
       "      <td>0</td>\n",
       "      <td>24</td>\n",
       "    </tr>\n",
       "    <tr>\n",
       "      <th>4</th>\n",
       "      <td>fem</td>\n",
       "      <td>9</td>\n",
       "      <td>36</td>\n",
       "    </tr>\n",
       "  </tbody>\n",
       "</table>\n",
       "</div>"
      ],
      "text/plain": [
       "  Sexo  Anos  Salario\n",
       "0  fem     9       39\n",
       "1  fem     6       36\n",
       "2  fem    10       40\n",
       "3  fem     0       24\n",
       "4  fem     9       36"
      ]
     },
     "execution_count": 6,
     "metadata": {},
     "output_type": "execute_result"
    }
   ],
   "source": [
    "dados.head()"
   ]
  },
  {
   "cell_type": "markdown",
   "metadata": {},
   "source": [
    "___\n",
    "\n",
    "<div id=\"ex1\"></div>\n",
    "\n",
    "### EXERCÍCIO 1:\n",
    "\n",
    "Vamos começar com uma análise descritiva utilizando as ferramentas estatísticas e computacionais que vimos até o momento. Faça essa análise com olhar na preocupação da empresa. Imprima as medidas resumo de posição (média, quartis, máximo, mínimo) e de dispersão (desvio padrão) para o `Salario` dos seguintes grupos:\n",
    "\n",
    "1. Conjunto de dados inteiro\n",
    "2. Somente mulheres\n",
    "3. Somente homens\n",
    "\n",
    "**Preencha os valores das 3 médias na questão 1 da APS2, no Blackboard**."
   ]
  },
  {
   "cell_type": "code",
   "execution_count": 33,
   "metadata": {},
   "outputs": [
    {
     "name": "stdout",
     "output_type": "stream",
     "text": [
      "Media Total: 38.343\n",
      "Quantil 1 Total: 31.00\n",
      "Quantil 2 Total: 37.00\n",
      "Quantil 3 Total: 42.00\n",
      "\n",
      "Media Fem: 35.469\n",
      "Quantil 1 Fem: 29.75\n",
      "Quantil 2 Fem: 35.00\n",
      "Quantil 3 Fem: 40.00\n",
      "\n",
      "Media Masc: 40.971\n",
      "Quantil 1 Masc: 33.00\n",
      "Quantil 2 Masc: 39.00\n",
      "Quantil 3 Masc: 47.00\n"
     ]
    }
   ],
   "source": [
    "# Escreva seu código aqui\n",
    "\n",
    "filtrofem= dados[\"Sexo\"] == \"fem\"\n",
    "filtromasc= dados[\"Sexo\"] == \"masc\"\n",
    "\n",
    "dadosF= dados.loc[filtrofem,:]\n",
    "dadosM= dados.loc[filtromasc,:]\n",
    "\n",
    "print('Media Total: {:.3f}'.format(dados[\"Salario\"].mean()))\n",
    "print('Quantil 1 Total: {:.2f}'.format(dados[\"Salario\"].quantile(q=0.25)))\n",
    "print('Quantil 2 Total: {:.2f}'.format(dados[\"Salario\"].median()))\n",
    "print('Quantil 3 Total: {:.2f}'.format(dados[\"Salario\"].quantile(q=0.75)))\n",
    "print()\n",
    "print('Media Fem: {:.3f}'.format(dadosF[\"Salario\"].mean()))\n",
    "print('Quantil 1 Fem: {:.2f}'.format(dadosF[\"Salario\"].quantile(q=0.25)))\n",
    "print('Quantil 2 Fem: {:.2f}'.format(dadosF[\"Salario\"].median()))\n",
    "print('Quantil 3 Fem: {:.2f}'.format(dadosF[\"Salario\"].quantile(q=0.75)))\n",
    "print()\n",
    "print('Media Masc: {:.3f}'.format(dadosM[\"Salario\"].mean()))\n",
    "print('Quantil 1 Masc: {:.2f}'.format(dadosM[\"Salario\"].quantile(q=0.25)))\n",
    "print('Quantil 2 Masc: {:.2f}'.format(dadosM[\"Salario\"].median()))\n",
    "print('Quantil 3 Masc: {:.2f}'.format(dadosM[\"Salario\"].quantile(q=0.75)))"
   ]
  },
  {
   "cell_type": "markdown",
   "metadata": {},
   "source": [
    "<div id=\"ex2\"></div>\n",
    "\n",
    "### EXERCÍCIO 2:\n",
    "\n",
    "Baseando-se nos resultados acima, que indícios você pode formular quanto a suspeita de que a empresa está pagando salários mais baixos às mulheres?"
   ]
  },
  {
   "cell_type": "raw",
   "metadata": {},
   "source": [
    "ESCREVA AQUI SUA RESPOSTA\n",
    "Sim, a empresa está pagando uma média salarial de 5 reais a menos para mulheres"
   ]
  },
  {
   "cell_type": "markdown",
   "metadata": {},
   "source": [
    "<div id=\"ex3\"></div>\n",
    "\n",
    "### EXERCÍCIO 3:\n",
    "\n",
    "Calcule os coeficientes de covariância entre as variáveis `Anos` e `Salario` para as mulheres e para os homens, separadamente. **Preencha os dois valores na questão 2 da APS2, no Blackboard**."
   ]
  },
  {
   "cell_type": "code",
   "execution_count": 36,
   "metadata": {},
   "outputs": [
    {
     "name": "stdout",
     "output_type": "stream",
     "text": [
      "Mulheres\n",
      "28.933467741935484\n",
      "Homens\n",
      "61.4781512605042\n"
     ]
    }
   ],
   "source": [
    "# Escreva seu código aqui\n",
    "cov_anos_salaF = dados.Salario.cov(dadosF.Anos)\n",
    "cov_anos_salaM = dados.Salario.cov(dadosM.Anos)\n",
    "print(\"Mulheres\")\n",
    "print(cov_anos_salaF)\n",
    "print(\"Homens\")\n",
    "print(cov_anos_salaM)"
   ]
  },
  {
   "cell_type": "markdown",
   "metadata": {},
   "source": [
    "<div id=\"ex4\"></div>\n",
    "\n",
    "### EXERCÍCIO 4:\n",
    "\n",
    "Baseando-se nos **coeficientes de covariância** acima, você pode concluir que (indique todas as opções corretas):\n",
    "\n",
    "<ol style=\"list-style-type: upper-alpha;\">\n",
    "    <li>Existe uma associação linear <b>negativa</b> entre os <code>Anos</code> na empresa e o <code>Salario</code> das mulheres</li>\n",
    "    <li>Existe uma associação linear <b>negativa</b> entre os <code>Anos</code> na empresa e o <code>Salario</code> dos homens</li>\n",
    "    <li>Existe uma associação linear <b>positiva</b> entre os <code>Anos</code> na empresa e o <code>Salario</code> das mulheres</li>\n",
    "    <li>Existe uma associação linear <b>positiva</b> entre os <code>Anos</code> na empresa e o <code>Salario</code> dos homens</li>\n",
    "    <li>Existe uma associação linear <b>fraca</b> entre os <code>Anos</code> na empresa e o <code>Salario</code> das mulheres</li>\n",
    "    <li>Existe uma associação linear <b>fraca</b> entre os <code>Anos</code> na empresa e o <code>Salario</code> dos homens</li>\n",
    "    <li>Existe uma associação linear <b>moderada/forte</b> entre os <code>Anos</code> na empresa e o <code>Salario</code> das mulheres</li>\n",
    "    <li>Existe uma associação linear <b>moderada/forte</b> entre os <code>Anos</code> na empresa e o <code>Salario</code> dos homens</li>\n",
    "</ol>\n",
    "\n",
    "**Indique sua resposta na questão 3 da APS2, no Blackboard.**"
   ]
  },
  {
   "cell_type": "raw",
   "metadata": {},
   "source": [
    "ESCREVA SUA RESPOSTA AQUI\n",
    "F\n",
    "F\n",
    "V\n",
    "V\n",
    "F\n",
    "F\n",
    "V\n",
    "V"
   ]
  },
  {
   "cell_type": "markdown",
   "metadata": {},
   "source": [
    "<div id=\"ex5\"></div>\n",
    "\n",
    "### EXERCÍCIO 5:\n",
    "\n",
    "Calcule os coeficientes de correlação linear entre as variáveis `Anos` e `Salario` para as mulheres e para os homens, separadamente. **Preencha os dois valores na questão 4 da APS2, no Blackboard**."
   ]
  },
  {
   "cell_type": "code",
   "execution_count": 17,
   "metadata": {},
   "outputs": [
    {
     "name": "stdout",
     "output_type": "stream",
     "text": [
      "Mulheres\n",
      "0.8022389898226462\n",
      "Homens\n",
      "0.6739986401774646\n"
     ]
    }
   ],
   "source": [
    "# Escreva seu código aqui\n",
    "corrFem= dados.Anos.corr(dadosF.Salario)\n",
    "corrMasc= dados.Anos.corr(dadosM.Salario)\n",
    "print(\"Mulheres\")\n",
    "print(corrFem)\n",
    "print(\"Homens\")\n",
    "print(corrMasc)"
   ]
  },
  {
   "cell_type": "markdown",
   "metadata": {},
   "source": [
    "<div id=\"ex6\"></div>\n",
    "\n",
    "### EXERCÍCIO 6:\n",
    "\n",
    "Baseando-se nos **coeficientes de correlação linear** acima, você pode concluir que (indique todas as opções corretas):\n",
    "\n",
    "<ol style=\"list-style-type: upper-alpha;\">\n",
    "    <li>Existe uma associação linear <b>negativa</b> entre os <code>Anos</code> na empresa e o <code>Salario</code> das mulheres</li>\n",
    "    <li>Existe uma associação linear <b>negativa</b> entre os <code>Anos</code> na empresa e o <code>Salario</code> dos homens</li>\n",
    "    <li>Existe uma associação linear <b>positiva</b> entre os <code>Anos</code> na empresa e o <code>Salario</code> das mulheres</li>\n",
    "    <li>Existe uma associação linear <b>positiva</b> entre os <code>Anos</code> na empresa e o <code>Salario</code> dos homens</li>\n",
    "    <li>Existe uma associação linear <b>fraca</b> entre os <code>Anos</code> na empresa e o <code>Salario</code> das mulheres</li>\n",
    "    <li>Existe uma associação linear <b>fraca</b> entre os <code>Anos</code> na empresa e o <code>Salario</code> dos homens</li>\n",
    "    <li>Existe uma associação linear <b>moderada/forte</b> entre os <code>Anos</code> na empresa e o <code>Salario</code> das mulheres</li>\n",
    "    <li>Existe uma associação linear <b>moderada/forte</b> entre os <code>Anos</code> na empresa e o <code>Salario</code> dos homens</li>\n",
    "</ol>\n",
    "\n",
    "**Indique sua resposta na questão 5 da APS2, no Blackboard.**"
   ]
  },
  {
   "cell_type": "raw",
   "metadata": {},
   "source": [
    "ESCREVA SUA RESPOSTA AQUI\n",
    "F\n",
    "F\n",
    "V\n",
    "V\n",
    "F\n",
    "F\n",
    "V\n",
    "V"
   ]
  },
  {
   "cell_type": "markdown",
   "metadata": {},
   "source": [
    "<div id=\"ex7\"></div>\n",
    "\n",
    "### EXERCÍCIO 7:\n",
    "\n",
    "Gere os gráficos de dispersão de anos na empresa versus salário mensal para as mulheres e para os homens. Utilize cores diferentes para cada grupo e gere o gráfico em **uma figura única**."
   ]
  },
  {
   "cell_type": "code",
   "execution_count": 21,
   "metadata": {},
   "outputs": [
    {
     "data": {
      "image/png": "[encoded data removed]",
      "text/plain": [
       "<Figure size 864x864 with 2 Axes>"
      ]
     },
     "metadata": {
      "needs_background": "light"
     },
     "output_type": "display_data"
    }
   ],
   "source": [
    "# Escreva seu código aqui\n",
    "fig = plt.figure(figsize=(12, 12))\n",
    "plt.subplot(3, 2, 1)\n",
    "plt.scatter(dadosM.Anos, dadosM.Salario, c='red', alpha=0.4)\n",
    "plt.title('Salário mensal para as Mulheres')\n",
    "plt.xlabel('Anos')\n",
    "plt.ylabel('Salario')\n",
    "\n",
    "plt.subplot(3, 2, 2)\n",
    "plt.scatter(dadosF.Anos, dadosF.Salario, c='orange', alpha=0.4)\n",
    "plt.title('Salário mensal para os Homens')\n",
    "plt.xlabel('Anos')\n",
    "plt.ylabel('Salario')\n",
    "\n",
    "fig.tight_layout()\n",
    "plt.show()"
   ]
  },
  {
   "cell_type": "markdown",
   "metadata": {},
   "source": [
    "<div id=\"ex8\"></div>\n",
    "\n",
    "### EXERCÍCIO 8:\n",
    "\n",
    "Como as informações do gráfico acima se relacionam às suas hipóteses no [exercício 2](#ex2)? Você mudaria a sua opinião quanto à suspeita de discriminação salarial? Explique."
   ]
  },
  {
   "cell_type": "raw",
   "metadata": {},
   "source": [
    "ESCREVA AQUI SUA RESPOSTA"
   ]
  },
  {
   "cell_type": "markdown",
   "metadata": {},
   "source": [
    "<div id=\"ex9\"></div>\n",
    "\n",
    "### EXERCÍCIO 9 [EXTRA]:\n",
    "\n",
    "Vamos analisar os dados divididos por faixas de anos na empresa. Crie uma nova coluna `'Faixa'` em `dados` contendo as faixas de anos na empresa. Divida a variável `Anos` em tantas faixas necessárias necessárias para iniciar em 0 (inclusive) e terminar em 30 (exclusive) com amplitude das faixas de 3 anos. *Dica: use a função `pd.cut` e altere alguns argumentos dessa função*.\n"
   ]
  },
  {
   "cell_type": "code",
   "execution_count": 31,
   "metadata": {},
   "outputs": [
    {
     "data": {
      "text/html": [
       "<div>\n",
       "<style scoped>\n",
       "    .dataframe tbody tr th:only-of-type {\n",
       "        vertical-align: middle;\n",
       "    }\n",
       "\n",
       "    .dataframe tbody tr th {\n",
       "        vertical-align: top;\n",
       "    }\n",
       "\n",
       "    .dataframe thead th {\n",
       "        text-align: right;\n",
       "    }\n",
       "</style>\n",
       "<table border=\"1\" class=\"dataframe\">\n",
       "  <thead>\n",
       "    <tr style=\"text-align: right;\">\n",
       "      <th></th>\n",
       "      <th>Sexo</th>\n",
       "      <th>Anos</th>\n",
       "      <th>Salario</th>\n",
       "      <th>Faixa</th>\n",
       "    </tr>\n",
       "  </thead>\n",
       "  <tbody>\n",
       "    <tr>\n",
       "      <th>0</th>\n",
       "      <td>fem</td>\n",
       "      <td>9</td>\n",
       "      <td>39</td>\n",
       "      <td>(-0.027, 9.0]</td>\n",
       "    </tr>\n",
       "    <tr>\n",
       "      <th>1</th>\n",
       "      <td>fem</td>\n",
       "      <td>6</td>\n",
       "      <td>36</td>\n",
       "      <td>(-0.027, 9.0]</td>\n",
       "    </tr>\n",
       "    <tr>\n",
       "      <th>2</th>\n",
       "      <td>fem</td>\n",
       "      <td>10</td>\n",
       "      <td>40</td>\n",
       "      <td>(9.0, 18.0]</td>\n",
       "    </tr>\n",
       "    <tr>\n",
       "      <th>3</th>\n",
       "      <td>fem</td>\n",
       "      <td>0</td>\n",
       "      <td>24</td>\n",
       "      <td>(-0.027, 9.0]</td>\n",
       "    </tr>\n",
       "    <tr>\n",
       "      <th>4</th>\n",
       "      <td>fem</td>\n",
       "      <td>9</td>\n",
       "      <td>36</td>\n",
       "      <td>(-0.027, 9.0]</td>\n",
       "    </tr>\n",
       "    <tr>\n",
       "      <th>...</th>\n",
       "      <td>...</td>\n",
       "      <td>...</td>\n",
       "      <td>...</td>\n",
       "      <td>...</td>\n",
       "    </tr>\n",
       "    <tr>\n",
       "      <th>62</th>\n",
       "      <td>masc</td>\n",
       "      <td>10</td>\n",
       "      <td>29</td>\n",
       "      <td>(9.0, 18.0]</td>\n",
       "    </tr>\n",
       "    <tr>\n",
       "      <th>63</th>\n",
       "      <td>masc</td>\n",
       "      <td>0</td>\n",
       "      <td>27</td>\n",
       "      <td>(-0.027, 9.0]</td>\n",
       "    </tr>\n",
       "    <tr>\n",
       "      <th>64</th>\n",
       "      <td>masc</td>\n",
       "      <td>11</td>\n",
       "      <td>31</td>\n",
       "      <td>(9.0, 18.0]</td>\n",
       "    </tr>\n",
       "    <tr>\n",
       "      <th>65</th>\n",
       "      <td>masc</td>\n",
       "      <td>2</td>\n",
       "      <td>24</td>\n",
       "      <td>(-0.027, 9.0]</td>\n",
       "    </tr>\n",
       "    <tr>\n",
       "      <th>66</th>\n",
       "      <td>masc</td>\n",
       "      <td>15</td>\n",
       "      <td>33</td>\n",
       "      <td>(9.0, 18.0]</td>\n",
       "    </tr>\n",
       "  </tbody>\n",
       "</table>\n",
       "<p>67 rows × 4 columns</p>\n",
       "</div>"
      ],
      "text/plain": [
       "    Sexo  Anos  Salario          Faixa\n",
       "0    fem     9       39  (-0.027, 9.0]\n",
       "1    fem     6       36  (-0.027, 9.0]\n",
       "2    fem    10       40    (9.0, 18.0]\n",
       "3    fem     0       24  (-0.027, 9.0]\n",
       "4    fem     9       36  (-0.027, 9.0]\n",
       "..   ...   ...      ...            ...\n",
       "62  masc    10       29    (9.0, 18.0]\n",
       "63  masc     0       27  (-0.027, 9.0]\n",
       "64  masc    11       31    (9.0, 18.0]\n",
       "65  masc     2       24  (-0.027, 9.0]\n",
       "66  masc    15       33    (9.0, 18.0]\n",
       "\n",
       "[67 rows x 4 columns]"
      ]
     },
     "execution_count": 31,
     "metadata": {},
     "output_type": "execute_result"
    }
   ],
   "source": [
    "# Escreva seu código aqui\n",
    "dados[\"Faixa\"]= pd.cut(dados[\"Anos\"],3)\n",
    "dados\n"
   ]
  },
  {
   "cell_type": "markdown",
   "metadata": {},
   "source": [
    "<div id=\"ex10\"></div>\n",
    "\n",
    "### EXERCÍCIO 10 &#x2605;&#x2605;&#x2605; [EXTRA]:\n",
    "\n",
    "Imprima as mesmas estatísticas do [exercício 1](#ex1) (salários de todas as pessoas da base de dados, salários das mulheres e salários dos homens), mas agora agrupando por `Faixa`. Dica: use a função `.groupby` de um `DataFrame`."
   ]
  },
  {
   "cell_type": "code",
   "execution_count": 30,
   "metadata": {},
   "outputs": [
    {
     "ename": "KeyError",
     "evalue": "'Faixa'",
     "output_type": "error",
     "traceback": [
      "\u001b[1;31m---------------------------------------------------------------------------\u001b[0m",
      "\u001b[1;31mKeyError\u001b[0m                                  Traceback (most recent call last)",
      "\u001b[1;32m~\\AppData\\Local\\Temp/ipykernel_540/1771477905.py\u001b[0m in \u001b[0;36m<module>\u001b[1;34m\u001b[0m\n\u001b[0;32m      2\u001b[0m \u001b[0mdados\u001b[0m\u001b[1;33m.\u001b[0m\u001b[0mgroupby\u001b[0m\u001b[1;33m(\u001b[0m\u001b[1;33m[\u001b[0m\u001b[1;34m\"Faixa\"\u001b[0m\u001b[1;33m]\u001b[0m\u001b[1;33m)\u001b[0m\u001b[1;33m\u001b[0m\u001b[1;33m\u001b[0m\u001b[0m\n\u001b[0;32m      3\u001b[0m \u001b[1;33m\u001b[0m\u001b[0m\n\u001b[1;32m----> 4\u001b[1;33m \u001b[0mprint\u001b[0m\u001b[1;33m(\u001b[0m\u001b[1;34m'Media Total: {:.2f}'\u001b[0m\u001b[1;33m.\u001b[0m\u001b[0mformat\u001b[0m\u001b[1;33m(\u001b[0m\u001b[0mdados\u001b[0m\u001b[1;33m[\u001b[0m\u001b[1;34m\"Salario\"\u001b[0m\u001b[1;33m]\u001b[0m\u001b[1;33m.\u001b[0m\u001b[0mgroupby\u001b[0m\u001b[1;33m(\u001b[0m\u001b[1;33m[\u001b[0m\u001b[1;34m\"Faixa\"\u001b[0m\u001b[1;33m]\u001b[0m\u001b[1;33m)\u001b[0m\u001b[1;33m.\u001b[0m\u001b[0mmean\u001b[0m\u001b[1;33m(\u001b[0m\u001b[1;33m)\u001b[0m\u001b[1;33m)\u001b[0m\u001b[1;33m)\u001b[0m\u001b[1;33m\u001b[0m\u001b[1;33m\u001b[0m\u001b[0m\n\u001b[0m\u001b[0;32m      5\u001b[0m \u001b[0mprint\u001b[0m\u001b[1;33m(\u001b[0m\u001b[1;34m'Quantil 1 Total: {:.2f}'\u001b[0m\u001b[1;33m.\u001b[0m\u001b[0mformat\u001b[0m\u001b[1;33m(\u001b[0m\u001b[0mdados\u001b[0m\u001b[1;33m[\u001b[0m\u001b[1;34m\"Salario\"\u001b[0m\u001b[1;33m]\u001b[0m\u001b[1;33m.\u001b[0m\u001b[0mgroupby\u001b[0m\u001b[1;33m(\u001b[0m\u001b[1;33m[\u001b[0m\u001b[1;34m\"Faixa\"\u001b[0m\u001b[1;33m]\u001b[0m\u001b[1;33m)\u001b[0m\u001b[1;33m.\u001b[0m\u001b[0mquantile\u001b[0m\u001b[1;33m(\u001b[0m\u001b[0mq\u001b[0m\u001b[1;33m=\u001b[0m\u001b[1;36m0.25\u001b[0m\u001b[1;33m)\u001b[0m\u001b[1;33m)\u001b[0m\u001b[1;33m)\u001b[0m\u001b[1;33m\u001b[0m\u001b[1;33m\u001b[0m\u001b[0m\n\u001b[0;32m      6\u001b[0m \u001b[0mprint\u001b[0m\u001b[1;33m(\u001b[0m\u001b[1;34m'Quantil 2 Total: {:.2f}'\u001b[0m\u001b[1;33m.\u001b[0m\u001b[0mformat\u001b[0m\u001b[1;33m(\u001b[0m\u001b[0mdados\u001b[0m\u001b[1;33m[\u001b[0m\u001b[1;34m\"Salario\"\u001b[0m\u001b[1;33m]\u001b[0m\u001b[1;33m.\u001b[0m\u001b[0mgroupby\u001b[0m\u001b[1;33m(\u001b[0m\u001b[1;33m[\u001b[0m\u001b[1;34m\"Faixa\"\u001b[0m\u001b[1;33m]\u001b[0m\u001b[1;33m)\u001b[0m\u001b[1;33m.\u001b[0m\u001b[0mmedian\u001b[0m\u001b[1;33m(\u001b[0m\u001b[1;33m)\u001b[0m\u001b[1;33m)\u001b[0m\u001b[1;33m)\u001b[0m\u001b[1;33m\u001b[0m\u001b[1;33m\u001b[0m\u001b[0m\n",
      "\u001b[1;32m~\\anaconda3\\lib\\site-packages\\pandas\\core\\series.py\u001b[0m in \u001b[0;36mgroupby\u001b[1;34m(self, by, axis, level, as_index, sort, group_keys, squeeze, observed, dropna)\u001b[0m\n\u001b[0;32m   1882\u001b[0m         \u001b[1;31m# error: Argument \"squeeze\" to \"SeriesGroupBy\" has incompatible type\u001b[0m\u001b[1;33m\u001b[0m\u001b[1;33m\u001b[0m\u001b[0m\n\u001b[0;32m   1883\u001b[0m         \u001b[1;31m# \"Union[bool, NoDefault]\"; expected \"bool\"\u001b[0m\u001b[1;33m\u001b[0m\u001b[1;33m\u001b[0m\u001b[0m\n\u001b[1;32m-> 1884\u001b[1;33m         return SeriesGroupBy(\n\u001b[0m\u001b[0;32m   1885\u001b[0m             \u001b[0mobj\u001b[0m\u001b[1;33m=\u001b[0m\u001b[0mself\u001b[0m\u001b[1;33m,\u001b[0m\u001b[1;33m\u001b[0m\u001b[1;33m\u001b[0m\u001b[0m\n\u001b[0;32m   1886\u001b[0m             \u001b[0mkeys\u001b[0m\u001b[1;33m=\u001b[0m\u001b[0mby\u001b[0m\u001b[1;33m,\u001b[0m\u001b[1;33m\u001b[0m\u001b[1;33m\u001b[0m\u001b[0m\n",
      "\u001b[1;32m~\\anaconda3\\lib\\site-packages\\pandas\\core\\groupby\\groupby.py\u001b[0m in \u001b[0;36m__init__\u001b[1;34m(self, obj, keys, axis, level, grouper, exclusions, selection, as_index, sort, group_keys, squeeze, observed, mutated, dropna)\u001b[0m\n\u001b[0;32m    887\u001b[0m             \u001b[1;32mfrom\u001b[0m \u001b[0mpandas\u001b[0m\u001b[1;33m.\u001b[0m\u001b[0mcore\u001b[0m\u001b[1;33m.\u001b[0m\u001b[0mgroupby\u001b[0m\u001b[1;33m.\u001b[0m\u001b[0mgrouper\u001b[0m \u001b[1;32mimport\u001b[0m \u001b[0mget_grouper\u001b[0m\u001b[1;33m\u001b[0m\u001b[1;33m\u001b[0m\u001b[0m\n\u001b[0;32m    888\u001b[0m \u001b[1;33m\u001b[0m\u001b[0m\n\u001b[1;32m--> 889\u001b[1;33m             grouper, exclusions, obj = get_grouper(\n\u001b[0m\u001b[0;32m    890\u001b[0m                 \u001b[0mobj\u001b[0m\u001b[1;33m,\u001b[0m\u001b[1;33m\u001b[0m\u001b[1;33m\u001b[0m\u001b[0m\n\u001b[0;32m    891\u001b[0m                 \u001b[0mkeys\u001b[0m\u001b[1;33m,\u001b[0m\u001b[1;33m\u001b[0m\u001b[1;33m\u001b[0m\u001b[0m\n",
      "\u001b[1;32m~\\anaconda3\\lib\\site-packages\\pandas\\core\\groupby\\grouper.py\u001b[0m in \u001b[0;36mget_grouper\u001b[1;34m(obj, key, axis, level, sort, observed, mutated, validate, dropna)\u001b[0m\n\u001b[0;32m    860\u001b[0m                 \u001b[0min_axis\u001b[0m\u001b[1;33m,\u001b[0m \u001b[0mlevel\u001b[0m\u001b[1;33m,\u001b[0m \u001b[0mgpr\u001b[0m \u001b[1;33m=\u001b[0m \u001b[1;32mFalse\u001b[0m\u001b[1;33m,\u001b[0m \u001b[0mgpr\u001b[0m\u001b[1;33m,\u001b[0m \u001b[1;32mNone\u001b[0m\u001b[1;33m\u001b[0m\u001b[1;33m\u001b[0m\u001b[0m\n\u001b[0;32m    861\u001b[0m             \u001b[1;32melse\u001b[0m\u001b[1;33m:\u001b[0m\u001b[1;33m\u001b[0m\u001b[1;33m\u001b[0m\u001b[0m\n\u001b[1;32m--> 862\u001b[1;33m                 \u001b[1;32mraise\u001b[0m \u001b[0mKeyError\u001b[0m\u001b[1;33m(\u001b[0m\u001b[0mgpr\u001b[0m\u001b[1;33m)\u001b[0m\u001b[1;33m\u001b[0m\u001b[1;33m\u001b[0m\u001b[0m\n\u001b[0m\u001b[0;32m    863\u001b[0m         \u001b[1;32melif\u001b[0m \u001b[0misinstance\u001b[0m\u001b[1;33m(\u001b[0m\u001b[0mgpr\u001b[0m\u001b[1;33m,\u001b[0m \u001b[0mGrouper\u001b[0m\u001b[1;33m)\u001b[0m \u001b[1;32mand\u001b[0m \u001b[0mgpr\u001b[0m\u001b[1;33m.\u001b[0m\u001b[0mkey\u001b[0m \u001b[1;32mis\u001b[0m \u001b[1;32mnot\u001b[0m \u001b[1;32mNone\u001b[0m\u001b[1;33m:\u001b[0m\u001b[1;33m\u001b[0m\u001b[1;33m\u001b[0m\u001b[0m\n\u001b[0;32m    864\u001b[0m             \u001b[1;31m# Add key to exclusions\u001b[0m\u001b[1;33m\u001b[0m\u001b[1;33m\u001b[0m\u001b[0m\n",
      "\u001b[1;31mKeyError\u001b[0m: 'Faixa'"
     ]
    }
   ],
   "source": [
    "# Escreva seu código aqui\n",
    "dados.groupby([\"Faixa\"])\n",
    "\n",
    "print('Media Total: {:.2f}'.format(dados[\"Salario\"].groupby([\"Faixa\"]).mean()))\n",
    "print('Quantil 1 Total: {:.2f}'.format(dados[\"Salario\"].groupby([\"Faixa\"]).quantile(q=0.25)))\n",
    "print('Quantil 2 Total: {:.2f}'.format(dados[\"Salario\"].groupby([\"Faixa\"]).median()))\n",
    "print('Quantil 3 Total: {:.2f}'.format(dados[\"Salario\"].groupby([\"Faixa\"]).quantile(q=0.75)))\n",
    "print()\n",
    "print('Media Mulher: {:.2f}'.format(dadosF[\"Salario\"].groupby([\"Faixa\"]).mean()))\n",
    "print('Quantil 1 Total: {:.2f}'.format(dadosF[\"Salario\"].groupby([\"Faixa\"]).quantile(q=0.25)))\n",
    "print('Quantil 2 Total: {:.2f}'.format(dadosF[\"Salario\"].groupby([\"Faixa\"]).median()))\n",
    "print('Quantil 3 Total: {:.2f}'.format(dadosF[\"Salario\"].groupby([\"Faixa\"]).quantile(q=0.75)))\n",
    "print()\n",
    "print('Media Homem: {:.2f}'.format(dadosM[\"Salario\"].groupby([\"Faixa\"]).mean()))\n",
    "print('Quantil 1 Total: {:.2f}'.format(dadosM[\"Salario\"].groupby([\"Faixa\"]).quantile(q=0.25)))\n",
    "print('Quantil 2 Total: {:.2f}'.format(dadosM[\"Salario\"].groupby([\"Faixa\"]).median()))\n",
    "print('Quantil 3 Total: {:.2f}'.format(dadosM[\"Salario\"].groupby([\"Faixa\"]).quantile(q=0.75)))"
   ]
  },
  {
   "cell_type": "markdown",
   "metadata": {},
   "source": [
    "<div id=\"ex11\"></div>\n",
    "\n",
    "### EXERCÍCIO 11 [EXTRA]:\n",
    "\n",
    "O resultado acima dá indícios para confirmar ou rejeitar a sua hipótese do [exercício 8](#ex8)?"
   ]
  },
  {
   "cell_type": "raw",
   "metadata": {},
   "source": [
    "ESCREVA AQUI SUA RESPOSTA"
   ]
  }
 ],
 "metadata": {
  "anaconda-cloud": {},
  "kernelspec": {
   "display_name": "Python 3 (ipykernel)",
   "language": "python",
   "name": "python3"
  },
  "language_info": {
   "codemirror_mode": {
    "name": "ipython",
    "version": 3
   },
   "file_extension": ".py",
   "mimetype": "text/x-python",
   "name": "python",
   "nbconvert_exporter": "python",
   "pygments_lexer": "ipython3",
   "version": "3.9.7"
  }
 },
 "nbformat": 4,
 "nbformat_minor": 2
}
