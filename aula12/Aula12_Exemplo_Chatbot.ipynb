{
 "cells": [
  {
   "cell_type": "markdown",
   "metadata": {},
   "source": [
    "___\n",
    "# Exemplo: Distribuição Poisson\n",
    "\n",
    "___\n",
    "## Aula 12"
   ]
  },
  {
   "cell_type": "markdown",
   "metadata": {},
   "source": [
    "## Lista de comandos:\n",
    "\n",
    "Comandos quando $X\\sim Poisson(\\mu)$\n",
    "\n",
    "- $P(X=k)$: `stats.poisson.pmf(k,mu)`\n",
    "- $P(X\\leq k)$: `stats.poisson.cdf(k, mu)`\n",
    "- $E(X)$: `stats.poisson.mean(mu)`\n",
    "- $Var(X)$: `stats.poisson.var(mu)`\n",
    "- $DP(X)$: `stats.poisson.std(mu)`\n",
    "\n",
    "Link: https://docs.scipy.org/doc/scipy/reference/generated/scipy.stats.poisson.html"
   ]
  },
  {
   "cell_type": "code",
   "execution_count": 1,
   "metadata": {},
   "outputs": [],
   "source": [
    "from scipy import stats"
   ]
  },
  {
   "cell_type": "markdown",
   "metadata": {},
   "source": [
    "O número de conversas que se iniciam entre usuário e chatbot em um site e-commerce ocorre a uma taxa média de 4 a cada minuto.\n"
   ]
  },
  {
   "cell_type": "raw",
   "metadata": {},
   "source": [
    "mu : valor médio por minuto\n",
    "mu = 4\n",
    "\n",
    "X: numero de conversas entre usuario e chatbot por minuto\n"
   ]
  },
  {
   "cell_type": "markdown",
   "metadata": {},
   "source": [
    "a) Calcule a probabilidade de ocorrer 3 conversas entre usuário e chatbot em um minuto qualquer do dia?\n",
    "\n",
    "*Resposta esperada: 0.19536681481316454*"
   ]
  },
  {
   "cell_type": "code",
   "execution_count": 5,
   "metadata": {},
   "outputs": [
    {
     "data": {
      "text/plain": [
       "0.19536681481316454"
      ]
     },
     "execution_count": 5,
     "metadata": {},
     "output_type": "execute_result"
    }
   ],
   "source": [
    "# Coloque seu código aqui\n",
    "mu=4\n",
    "tres_conv= stats.poisson.pmf(3, mu)\n",
    "tres_conv"
   ]
  },
  {
   "cell_type": "markdown",
   "metadata": {},
   "source": [
    "b) Calcule a probabilidade de ocorrer **menos de 3** conversas entre usuário e chatbot em um minuto qualquer do dia.\n",
    "\n",
    "*Resposta esperada: 0.23810330555354436*"
   ]
  },
  {
   "cell_type": "code",
   "execution_count": 7,
   "metadata": {},
   "outputs": [
    {
     "data": {
      "text/plain": [
       "0.23810330555354436"
      ]
     },
     "execution_count": 7,
     "metadata": {},
     "output_type": "execute_result"
    }
   ],
   "source": [
    "# Coloque seu código aqui\n",
    "menos_3_conv= stats.poisson.cdf(2,mu)\n",
    "menos_3_conv"
   ]
  },
  {
   "cell_type": "markdown",
   "metadata": {},
   "source": [
    "c) Calcule a probabilidade de ocorrer **menos de 4** conversas entre usuário e chatbot em um minuto qualquer do dia, **sabendo que houve pelo menos 1 conversa entre usuário e chatbot**.\n",
    "\n",
    "*Resposta esperada: 0.42290016824554516*"
   ]
  },
  {
   "cell_type": "code",
   "execution_count": 27,
   "metadata": {},
   "outputs": [
    {
     "data": {
      "text/plain": [
       "0.42290016824554516"
      ]
     },
     "execution_count": 27,
     "metadata": {},
     "output_type": "execute_result"
    }
   ],
   "source": [
    "# Coloque seu código aqui\n",
    "#Se vc quer fazer algo entre 2 números, fazer a cdf de um menos a do outro\n",
    "# P(x<4|X>=1)= (P(1<=x<4))/(P(X>=1))\n",
    "prob_menos_4_conv= stats.poisson.cdf(3,mu)\n",
    "prob_1_conv= stats.poisson.sf(0,mu) # Essa linha é igual a -> (1 - stats.poisson.cdf(0, mu))\n",
    "prob_0_conv= stats.poisson.pmf(0,mu)\n",
    "prob1_a_3= prob_menos_4_conv - prob_0_conv\n",
    "prob_intersecção= prob1_a_3/prob_1_conv #A intersecção é ter o menos de 4 e o pelo menos 1\n",
    "prob_intersecção"
   ]
  },
  {
   "cell_type": "markdown",
   "metadata": {},
   "source": [
    "**EXTRA:** Pergunta a cada 2 minutos:\n",
    "Calcule a probabilidade de ocorrem exatamente 3 inícios de conversa a cada **dois minutos** quaisquer do dia? \n",
    "\n",
    "*Resposta esperada: 0.028626144247680996*"
   ]
  },
  {
   "cell_type": "code",
   "execution_count": 28,
   "metadata": {},
   "outputs": [
    {
     "data": {
      "text/plain": [
       "0.028626144247680996"
      ]
     },
     "execution_count": 28,
     "metadata": {},
     "output_type": "execute_result"
    }
   ],
   "source": [
    "# Coloque seu código aqui\n",
    "#Se em 1 min mu=4, 2 min mu=8\n",
    "prob_3_2min= stats.poisson.pmf(3,2*mu)\n",
    "prob_3_2min"
   ]
  },
  {
   "cell_type": "code",
   "execution_count": null,
   "metadata": {},
   "outputs": [],
   "source": []
  }
 ],
 "metadata": {
  "kernelspec": {
   "display_name": "Python 3.9.7 ('base')",
   "language": "python",
   "name": "python3"
  },
  "language_info": {
   "codemirror_mode": {
    "name": "ipython",
    "version": 3
   },
   "file_extension": ".py",
   "mimetype": "text/x-python",
   "name": "python",
   "nbconvert_exporter": "python",
   "pygments_lexer": "ipython3",
   "version": "3.9.7"
  },
  "vscode": {
   "interpreter": {
    "hash": "eb7af8c955b36ac4d04fa9969eb33b8c629734543e89e2f9358555e6c3f18d8e"
   }
  }
 },
 "nbformat": 4,
 "nbformat_minor": 2
}
